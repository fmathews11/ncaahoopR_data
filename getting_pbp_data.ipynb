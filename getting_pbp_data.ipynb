{
 "cells": [
  {
   "cell_type": "code",
   "execution_count": 2,
   "metadata": {},
   "outputs": [],
   "source": [
    "import pandas as pd\n",
    "import numpy as np\n",
    "pd.options.display.max_columns = None\n",
    "import os"
   ]
  },
  {
   "cell_type": "code",
   "execution_count": 3,
   "metadata": {},
   "outputs": [],
   "source": [
    "master_df = pd.DataFrame()"
   ]
  },
  {
   "cell_type": "code",
   "execution_count": null,
   "metadata": {},
   "outputs": [],
   "source": [
    "master_path = 'c:\\\\Users\\\\fmath\\\\OneDrive\\\\Desktop\\\\Github\\\\ncaahoopR_data'\n",
    "os.chdir(master_path)\n",
    "\n",
    "for parent_folder in [i.name for i in os.scandir() if i.name.startswith(\"20\")]:\n",
    "\n",
    "    try:\n",
    "        os.chdir(f'{master_path}\\\\{parent_folder}\\\\pbp_logs')\n",
    "    except FileNotFoundError as e:\n",
    "        continue\n",
    "    \n",
    "    directory_to_scan = os.getcwd()\n",
    "\n",
    "    for filename in os.scandir(directory_to_scan):\n",
    "\n",
    "        if filename.name.startswith(\"20\"):\n",
    "\n",
    "            new_directory = f'{master_path}\\\\{parent_folder}\\\\pbp_logs\\\\{filename.name}'\n",
    "            os.chdir(new_directory)\n",
    "            #print(new_directory)\n",
    "\n",
    "            for file in os.scandir(new_directory):\n",
    "\n",
    "                if file.name.endswith(\"csv\") and not file.name.startswith('schedule'):\n",
    "\n",
    "                    temp_df = pd.read_csv(f\"{new_directory}\\\\{file.name}\")\n",
    "                    mask = temp_df.secs_remaining_absolute <= 30\n",
    "                    first_filtered_dataframe = temp_df[mask]\n",
    "\n",
    "                    # if \"possesion_before\" not in first_filtered_dataframe.columns:\n",
    "                    #     continue\n",
    "                    \n",
    "                    #first_filtered_dataframe = first_filtered_dataframe[first_filtered_dataframe.possession_before.notnull()]\n",
    "\n",
    "                    if first_filtered_dataframe.empty:\n",
    "                        continue\n",
    "\n",
    "                    if not any(i <= 1 for i in np.abs(first_filtered_dataframe.home_score - first_filtered_dataframe.away_score)):\n",
    "                        continue\n",
    "                    \n",
    "                    master_df = pd.concat([master_df,first_filtered_dataframe])\n",
    "                    print(master_df.shape)\n"
   ]
  },
  {
   "cell_type": "code",
   "execution_count": 8,
   "metadata": {},
   "outputs": [],
   "source": [
    "os.chdir(master_path)"
   ]
  },
  {
   "cell_type": "code",
   "execution_count": 9,
   "metadata": {},
   "outputs": [],
   "source": [
    "master_df.to_csv(\"my_csvs/last_30_seconds_down_1.csv\",index = False)"
   ]
  }
 ],
 "metadata": {
  "kernelspec": {
   "display_name": "base",
   "language": "python",
   "name": "python3"
  },
  "language_info": {
   "codemirror_mode": {
    "name": "ipython",
    "version": 3
   },
   "file_extension": ".py",
   "mimetype": "text/x-python",
   "name": "python",
   "nbconvert_exporter": "python",
   "pygments_lexer": "ipython3",
   "version": "3.9.7 (default, Sep 16 2021, 16:59:28) [MSC v.1916 64 bit (AMD64)]"
  },
  "orig_nbformat": 4,
  "vscode": {
   "interpreter": {
    "hash": "df36b4008477cbb48374c583daaf8481895fa41f466162227fbed12f9b409580"
   }
  }
 },
 "nbformat": 4,
 "nbformat_minor": 2
}
