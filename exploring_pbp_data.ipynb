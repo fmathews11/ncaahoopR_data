{
 "cells": [
  {
   "cell_type": "code",
   "execution_count": 40,
   "metadata": {},
   "outputs": [
    {
     "data": {
      "text/plain": [
       "400868198"
      ]
     },
     "execution_count": 40,
     "metadata": {},
     "output_type": "execute_result"
    }
   ],
   "source": [
    "import pandas as pd\n",
    "import numpy as np\n",
    "import matplotlib.pyplot as plt\n",
    "import seaborn as sns\n",
    "from tqdm import tqdm\n",
    "pd.options.display.max_columns = None\n",
    "\n",
    "df = pd.read_csv('my_csvs/last_30_seconds_down_1.csv',low_memory=False)\n",
    "df.game_id.sample().item()"
   ]
  },
  {
   "cell_type": "code",
   "execution_count": 41,
   "metadata": {},
   "outputs": [
    {
     "data": {
      "text/plain": [
       "3571"
      ]
     },
     "execution_count": 41,
     "metadata": {},
     "output_type": "execute_result"
    }
   ],
   "source": [
    "df = df.loc[df.possession_before.notnull()]\n",
    "df = df.loc[df.half < 3]\n",
    "df.game_id.nunique()"
   ]
  },
  {
   "cell_type": "code",
   "execution_count": 42,
   "metadata": {},
   "outputs": [
    {
     "name": "stderr",
     "output_type": "stream",
     "text": [
      "100%|██████████| 3571/3571 [00:05<00:00, 629.24it/s]\n"
     ]
    }
   ],
   "source": [
    "for id,sub_df in tqdm(df.groupby('game_id')):\n",
    "\n",
    "    last_row_df = sub_df.iloc[len(sub_df)-1,:].to_frame().transpose()\n",
    "\n",
    "    if last_row_df.home_score.item() > last_row_df.away_score.item():\n",
    "\n",
    "        df.loc[df.game_id == id,'winner'] = sub_df.home.unique().item()\n",
    "\n",
    "    else:\n",
    "\n",
    "        df.loc[df.game_id == id,'winner'] = sub_df.away.unique().item()"
   ]
  },
  {
   "cell_type": "code",
   "execution_count": 10,
   "metadata": {},
   "outputs": [
    {
     "data": {
      "text/plain": [
       "102006    401089974\n",
       "100145    401087532\n",
       "Name: game_id, dtype: int64"
      ]
     },
     "execution_count": 10,
     "metadata": {},
     "output_type": "execute_result"
    }
   ],
   "source": [
    "df.game_id.sample(2)"
   ]
  },
  {
   "cell_type": "code",
   "execution_count": 45,
   "metadata": {},
   "outputs": [],
   "source": [
    "for game_id,sub_df in df.groupby('game_id'):\n",
    "\n",
    "    for idx_value, play in sub_df.to_dict(orient = 'index').items():\n",
    "\n",
    "        if np.abs(play['score_diff']) !=1:\n",
    "            continue\n",
    "        \n",
    "        game_winner = play['winner']\n",
    "        home_team = play['home']\n",
    "        away_team = play['away']\n",
    "        \n",
    "        # If the home team is up 1\n",
    "        if play['score_diff'] == 1:\n",
    "            # And the away team won\n",
    "            if game_winner == away_team:\n",
    "                # But the home team had the ball\n",
    "                if play['possession_after'] == home_team:\n",
    "                    df.loc[df.index == idx_value,'criteria_satisfied'] = 1\n",
    "                    break\n",
    "                \n",
    "        # If the away team is up 1\n",
    "        elif play['score_diff'] == -1:\n",
    "            # But the home team won\n",
    "            if game_winner == home_team:\n",
    "                # And the away team had the ball\n",
    "                if play['possession_after'] == away_team:\n",
    "\n",
    "                    df.loc[df.index == idx_value,'criteria_satisfied'] = 1\n",
    "                    break\n",
    "        else:\n",
    "            continue\n"
   ]
  },
  {
   "cell_type": "code",
   "execution_count": 54,
   "metadata": {},
   "outputs": [
    {
     "data": {
      "text/html": [
       "<div>\n",
       "<style scoped>\n",
       "    .dataframe tbody tr th:only-of-type {\n",
       "        vertical-align: middle;\n",
       "    }\n",
       "\n",
       "    .dataframe tbody tr th {\n",
       "        vertical-align: top;\n",
       "    }\n",
       "\n",
       "    .dataframe thead th {\n",
       "        text-align: right;\n",
       "    }\n",
       "</style>\n",
       "<table border=\"1\" class=\"dataframe\">\n",
       "  <thead>\n",
       "    <tr style=\"text-align: right;\">\n",
       "      <th></th>\n",
       "      <th>home</th>\n",
       "      <th>away</th>\n",
       "      <th>score_diff</th>\n",
       "      <th>possession_before</th>\n",
       "      <th>possession_after</th>\n",
       "      <th>winner</th>\n",
       "      <th>date</th>\n",
       "    </tr>\n",
       "  </thead>\n",
       "  <tbody>\n",
       "    <tr>\n",
       "      <th>89502</th>\n",
       "      <td>Purdue</td>\n",
       "      <td>Ohio State</td>\n",
       "      <td>1</td>\n",
       "      <td>Ohio State</td>\n",
       "      <td>Purdue</td>\n",
       "      <td>Ohio State</td>\n",
       "      <td>2018-02-07</td>\n",
       "    </tr>\n",
       "  </tbody>\n",
       "</table>\n",
       "</div>"
      ],
      "text/plain": [
       "         home        away  score_diff possession_before possession_after  \\\n",
       "89502  Purdue  Ohio State           1        Ohio State           Purdue   \n",
       "\n",
       "           winner        date  \n",
       "89502  Ohio State  2018-02-07  "
      ]
     },
     "execution_count": 54,
     "metadata": {},
     "output_type": "execute_result"
    }
   ],
   "source": [
    "df[df.criteria_satisfied == 1][['home','away','score_diff','possession_before','possession_after','winner','date']].query('home == \"Purdue\"')"
   ]
  }
 ],
 "metadata": {
  "kernelspec": {
   "display_name": "base",
   "language": "python",
   "name": "python3"
  },
  "language_info": {
   "codemirror_mode": {
    "name": "ipython",
    "version": 3
   },
   "file_extension": ".py",
   "mimetype": "text/x-python",
   "name": "python",
   "nbconvert_exporter": "python",
   "pygments_lexer": "ipython3",
   "version": "3.9.7"
  },
  "orig_nbformat": 4,
  "vscode": {
   "interpreter": {
    "hash": "df36b4008477cbb48374c583daaf8481895fa41f466162227fbed12f9b409580"
   }
  }
 },
 "nbformat": 4,
 "nbformat_minor": 2
}
